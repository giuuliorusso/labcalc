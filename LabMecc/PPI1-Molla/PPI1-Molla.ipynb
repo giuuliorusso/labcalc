{
    "cells": [
        {
            "cell_type": "markdown",
            "source": [
                "# PPI1-Molla"
            ],
            "metadata": {}
        },
        {
            "cell_type": "code",
            "execution_count": 1,
            "source": [
                "import numpy as np\n",
                "import pandas as pd\n",
                "\n",
                "import lab"
            ],
            "outputs": [],
            "metadata": {}
        },
        {
            "cell_type": "code",
            "execution_count": 2,
            "source": [
                "N = 10"
            ],
            "outputs": [],
            "metadata": {}
        },
        {
            "cell_type": "markdown",
            "source": [
                "## 1 - Misure massa $m$"
            ],
            "metadata": {}
        },
        {
            "cell_type": "code",
            "execution_count": 3,
            "source": [
                "m = pd.read_csv(\"Data/Massa.csv\")\n",
                "m"
            ],
            "outputs": [
                {
                    "output_type": "execute_result",
                    "data": {
                        "text/plain": [
                            "      m4     m6     m8    m10\n",
                            "0  317.7  475.5  630.4  788.1\n",
                            "1  317.6  475.5  630.4  787.9\n",
                            "2  317.7  475.4  630.4  788.2\n",
                            "3  317.8  475.6  630.4  788.3\n",
                            "4  317.7  475.5  630.3  788.2\n",
                            "5  317.7  475.2  630.4  788.3\n",
                            "6  317.6  475.4  630.4  788.1\n",
                            "7  317.8  475.5  630.3  788.2\n",
                            "8  317.8  475.3  630.3  788.3\n",
                            "9  317.7  475.4  630.1  788.3"
                        ],
                        "text/html": [
                            "<div>\n",
                            "<style scoped>\n",
                            "    .dataframe tbody tr th:only-of-type {\n",
                            "        vertical-align: middle;\n",
                            "    }\n",
                            "\n",
                            "    .dataframe tbody tr th {\n",
                            "        vertical-align: top;\n",
                            "    }\n",
                            "\n",
                            "    .dataframe thead th {\n",
                            "        text-align: right;\n",
                            "    }\n",
                            "</style>\n",
                            "<table border=\"1\" class=\"dataframe\">\n",
                            "  <thead>\n",
                            "    <tr style=\"text-align: right;\">\n",
                            "      <th></th>\n",
                            "      <th>m4</th>\n",
                            "      <th>m6</th>\n",
                            "      <th>m8</th>\n",
                            "      <th>m10</th>\n",
                            "    </tr>\n",
                            "  </thead>\n",
                            "  <tbody>\n",
                            "    <tr>\n",
                            "      <th>0</th>\n",
                            "      <td>317.7</td>\n",
                            "      <td>475.5</td>\n",
                            "      <td>630.4</td>\n",
                            "      <td>788.1</td>\n",
                            "    </tr>\n",
                            "    <tr>\n",
                            "      <th>1</th>\n",
                            "      <td>317.6</td>\n",
                            "      <td>475.5</td>\n",
                            "      <td>630.4</td>\n",
                            "      <td>787.9</td>\n",
                            "    </tr>\n",
                            "    <tr>\n",
                            "      <th>2</th>\n",
                            "      <td>317.7</td>\n",
                            "      <td>475.4</td>\n",
                            "      <td>630.4</td>\n",
                            "      <td>788.2</td>\n",
                            "    </tr>\n",
                            "    <tr>\n",
                            "      <th>3</th>\n",
                            "      <td>317.8</td>\n",
                            "      <td>475.6</td>\n",
                            "      <td>630.4</td>\n",
                            "      <td>788.3</td>\n",
                            "    </tr>\n",
                            "    <tr>\n",
                            "      <th>4</th>\n",
                            "      <td>317.7</td>\n",
                            "      <td>475.5</td>\n",
                            "      <td>630.3</td>\n",
                            "      <td>788.2</td>\n",
                            "    </tr>\n",
                            "    <tr>\n",
                            "      <th>5</th>\n",
                            "      <td>317.7</td>\n",
                            "      <td>475.2</td>\n",
                            "      <td>630.4</td>\n",
                            "      <td>788.3</td>\n",
                            "    </tr>\n",
                            "    <tr>\n",
                            "      <th>6</th>\n",
                            "      <td>317.6</td>\n",
                            "      <td>475.4</td>\n",
                            "      <td>630.4</td>\n",
                            "      <td>788.1</td>\n",
                            "    </tr>\n",
                            "    <tr>\n",
                            "      <th>7</th>\n",
                            "      <td>317.8</td>\n",
                            "      <td>475.5</td>\n",
                            "      <td>630.3</td>\n",
                            "      <td>788.2</td>\n",
                            "    </tr>\n",
                            "    <tr>\n",
                            "      <th>8</th>\n",
                            "      <td>317.8</td>\n",
                            "      <td>475.3</td>\n",
                            "      <td>630.3</td>\n",
                            "      <td>788.3</td>\n",
                            "    </tr>\n",
                            "    <tr>\n",
                            "      <th>9</th>\n",
                            "      <td>317.7</td>\n",
                            "      <td>475.4</td>\n",
                            "      <td>630.1</td>\n",
                            "      <td>788.3</td>\n",
                            "    </tr>\n",
                            "  </tbody>\n",
                            "</table>\n",
                            "</div>"
                        ]
                    },
                    "metadata": {},
                    "execution_count": 3
                }
            ],
            "metadata": {}
        },
        {
            "cell_type": "code",
            "execution_count": 4,
            "source": [
                "# Deviazione standard massa\n",
                "m.std(ddof=1)"
            ],
            "outputs": [
                {
                    "output_type": "execute_result",
                    "data": {
                        "text/plain": [
                            "m4     0.073786\n",
                            "m6     0.115950\n",
                            "m8     0.096609\n",
                            "m10    0.128668\n",
                            "dtype: float64"
                        ]
                    },
                    "metadata": {},
                    "execution_count": 4
                }
            ],
            "metadata": {}
        },
        {
            "cell_type": "code",
            "execution_count": 5,
            "source": [
                "# Media massa\n",
                "m.mean()"
            ],
            "outputs": [
                {
                    "output_type": "execute_result",
                    "data": {
                        "text/plain": [
                            "m4     317.71\n",
                            "m6     475.43\n",
                            "m8     630.34\n",
                            "m10    788.19\n",
                            "dtype: float64"
                        ]
                    },
                    "metadata": {},
                    "execution_count": 5
                }
            ],
            "metadata": {}
        },
        {
            "cell_type": "code",
            "execution_count": 6,
            "source": [
                "# Deviazione standard media massa\n",
                "m.std(ddof=1) / np.sqrt(N)"
            ],
            "outputs": [
                {
                    "output_type": "execute_result",
                    "data": {
                        "text/plain": [
                            "m4     0.023333\n",
                            "m6     0.036667\n",
                            "m8     0.030551\n",
                            "m10    0.040689\n",
                            "dtype: float64"
                        ]
                    },
                    "metadata": {},
                    "execution_count": 6
                }
            ],
            "metadata": {}
        },
        {
            "cell_type": "markdown",
            "source": [
                "## 2 - Misure posizione di equlibrio $x_{eq}$"
            ],
            "metadata": {}
        },
        {
            "cell_type": "code",
            "execution_count": 7,
            "source": [
                "xeq = pd.read_csv(\"Data/Xeq.csv\")\n",
                "xeq"
            ],
            "outputs": [
                {
                    "output_type": "execute_result",
                    "data": {
                        "text/plain": [
                            "   Xeq4  Xeq6  Xeq8  Xeq10\n",
                            "0  13.0  16.3  19.6   23.0\n",
                            "1  12.9  16.2  19.6   23.0\n",
                            "2  12.9  16.3  19.5   23.1\n",
                            "3  12.9  16.3  19.6   23.0\n",
                            "4  13.0  16.2  19.6   23.0\n",
                            "5  12.9  16.3  19.6   23.0\n",
                            "6  12.9  16.3  19.6   23.1\n",
                            "7  12.9  16.3  19.6   23.0\n",
                            "8  12.9  16.3  19.6   23.0\n",
                            "9  12.9  16.2  19.6   23.0"
                        ],
                        "text/html": [
                            "<div>\n",
                            "<style scoped>\n",
                            "    .dataframe tbody tr th:only-of-type {\n",
                            "        vertical-align: middle;\n",
                            "    }\n",
                            "\n",
                            "    .dataframe tbody tr th {\n",
                            "        vertical-align: top;\n",
                            "    }\n",
                            "\n",
                            "    .dataframe thead th {\n",
                            "        text-align: right;\n",
                            "    }\n",
                            "</style>\n",
                            "<table border=\"1\" class=\"dataframe\">\n",
                            "  <thead>\n",
                            "    <tr style=\"text-align: right;\">\n",
                            "      <th></th>\n",
                            "      <th>Xeq4</th>\n",
                            "      <th>Xeq6</th>\n",
                            "      <th>Xeq8</th>\n",
                            "      <th>Xeq10</th>\n",
                            "    </tr>\n",
                            "  </thead>\n",
                            "  <tbody>\n",
                            "    <tr>\n",
                            "      <th>0</th>\n",
                            "      <td>13.0</td>\n",
                            "      <td>16.3</td>\n",
                            "      <td>19.6</td>\n",
                            "      <td>23.0</td>\n",
                            "    </tr>\n",
                            "    <tr>\n",
                            "      <th>1</th>\n",
                            "      <td>12.9</td>\n",
                            "      <td>16.2</td>\n",
                            "      <td>19.6</td>\n",
                            "      <td>23.0</td>\n",
                            "    </tr>\n",
                            "    <tr>\n",
                            "      <th>2</th>\n",
                            "      <td>12.9</td>\n",
                            "      <td>16.3</td>\n",
                            "      <td>19.5</td>\n",
                            "      <td>23.1</td>\n",
                            "    </tr>\n",
                            "    <tr>\n",
                            "      <th>3</th>\n",
                            "      <td>12.9</td>\n",
                            "      <td>16.3</td>\n",
                            "      <td>19.6</td>\n",
                            "      <td>23.0</td>\n",
                            "    </tr>\n",
                            "    <tr>\n",
                            "      <th>4</th>\n",
                            "      <td>13.0</td>\n",
                            "      <td>16.2</td>\n",
                            "      <td>19.6</td>\n",
                            "      <td>23.0</td>\n",
                            "    </tr>\n",
                            "    <tr>\n",
                            "      <th>5</th>\n",
                            "      <td>12.9</td>\n",
                            "      <td>16.3</td>\n",
                            "      <td>19.6</td>\n",
                            "      <td>23.0</td>\n",
                            "    </tr>\n",
                            "    <tr>\n",
                            "      <th>6</th>\n",
                            "      <td>12.9</td>\n",
                            "      <td>16.3</td>\n",
                            "      <td>19.6</td>\n",
                            "      <td>23.1</td>\n",
                            "    </tr>\n",
                            "    <tr>\n",
                            "      <th>7</th>\n",
                            "      <td>12.9</td>\n",
                            "      <td>16.3</td>\n",
                            "      <td>19.6</td>\n",
                            "      <td>23.0</td>\n",
                            "    </tr>\n",
                            "    <tr>\n",
                            "      <th>8</th>\n",
                            "      <td>12.9</td>\n",
                            "      <td>16.3</td>\n",
                            "      <td>19.6</td>\n",
                            "      <td>23.0</td>\n",
                            "    </tr>\n",
                            "    <tr>\n",
                            "      <th>9</th>\n",
                            "      <td>12.9</td>\n",
                            "      <td>16.2</td>\n",
                            "      <td>19.6</td>\n",
                            "      <td>23.0</td>\n",
                            "    </tr>\n",
                            "  </tbody>\n",
                            "</table>\n",
                            "</div>"
                        ]
                    },
                    "metadata": {},
                    "execution_count": 7
                }
            ],
            "metadata": {}
        },
        {
            "cell_type": "code",
            "execution_count": 8,
            "source": [
                "# Deviazione standard xeq\n",
                "xeq.std(ddof=1)"
            ],
            "outputs": [
                {
                    "output_type": "execute_result",
                    "data": {
                        "text/plain": [
                            "Xeq4     0.042164\n",
                            "Xeq6     0.048305\n",
                            "Xeq8     0.031623\n",
                            "Xeq10    0.042164\n",
                            "dtype: float64"
                        ]
                    },
                    "metadata": {},
                    "execution_count": 8
                }
            ],
            "metadata": {}
        },
        {
            "cell_type": "code",
            "execution_count": 9,
            "source": [
                "# Media xeq\n",
                "xeq.mean()"
            ],
            "outputs": [
                {
                    "output_type": "execute_result",
                    "data": {
                        "text/plain": [
                            "Xeq4     12.92\n",
                            "Xeq6     16.27\n",
                            "Xeq8     19.59\n",
                            "Xeq10    23.02\n",
                            "dtype: float64"
                        ]
                    },
                    "metadata": {},
                    "execution_count": 9
                }
            ],
            "metadata": {}
        },
        {
            "cell_type": "code",
            "execution_count": 10,
            "source": [
                "# Deviazione standard media xeq\n",
                "xeq.std(ddof=1) / np.sqrt(N)"
            ],
            "outputs": [
                {
                    "output_type": "execute_result",
                    "data": {
                        "text/plain": [
                            "Xeq4     0.013333\n",
                            "Xeq6     0.015275\n",
                            "Xeq8     0.010000\n",
                            "Xeq10    0.013333\n",
                            "dtype: float64"
                        ]
                    },
                    "metadata": {},
                    "execution_count": 10
                }
            ],
            "metadata": {}
        },
        {
            "cell_type": "markdown",
            "source": [
                "## 3.1 - Misure periodo 5 oscillazioni $T_{5osc}$"
            ],
            "metadata": {}
        },
        {
            "cell_type": "code",
            "execution_count": 11,
            "source": [
                "T5 = pd.read_csv(\"Data/Periodo.csv\")\n",
                "T5"
            ],
            "outputs": [
                {
                    "output_type": "execute_result",
                    "data": {
                        "text/plain": [
                            "     T4    T6    T8   T10\n",
                            "0  2.81  3.51  3.90  4.40\n",
                            "1  2.91  3.44  3.89  4.40\n",
                            "2  2.76  3.39  3.95  4.34\n",
                            "3  2.81  3.38  3.83  4.32\n",
                            "4  2.76  3.44  3.91  4.27\n",
                            "5  2.91  3.40  3.81  4.34\n",
                            "6  2.82  3.51  3.84  4.32\n",
                            "7  2.75  3.41  3.90  4.37\n",
                            "8  2.81  3.32  3.84  4.25\n",
                            "9  2.82  3.34  3.88  4.35"
                        ],
                        "text/html": [
                            "<div>\n",
                            "<style scoped>\n",
                            "    .dataframe tbody tr th:only-of-type {\n",
                            "        vertical-align: middle;\n",
                            "    }\n",
                            "\n",
                            "    .dataframe tbody tr th {\n",
                            "        vertical-align: top;\n",
                            "    }\n",
                            "\n",
                            "    .dataframe thead th {\n",
                            "        text-align: right;\n",
                            "    }\n",
                            "</style>\n",
                            "<table border=\"1\" class=\"dataframe\">\n",
                            "  <thead>\n",
                            "    <tr style=\"text-align: right;\">\n",
                            "      <th></th>\n",
                            "      <th>T4</th>\n",
                            "      <th>T6</th>\n",
                            "      <th>T8</th>\n",
                            "      <th>T10</th>\n",
                            "    </tr>\n",
                            "  </thead>\n",
                            "  <tbody>\n",
                            "    <tr>\n",
                            "      <th>0</th>\n",
                            "      <td>2.81</td>\n",
                            "      <td>3.51</td>\n",
                            "      <td>3.90</td>\n",
                            "      <td>4.40</td>\n",
                            "    </tr>\n",
                            "    <tr>\n",
                            "      <th>1</th>\n",
                            "      <td>2.91</td>\n",
                            "      <td>3.44</td>\n",
                            "      <td>3.89</td>\n",
                            "      <td>4.40</td>\n",
                            "    </tr>\n",
                            "    <tr>\n",
                            "      <th>2</th>\n",
                            "      <td>2.76</td>\n",
                            "      <td>3.39</td>\n",
                            "      <td>3.95</td>\n",
                            "      <td>4.34</td>\n",
                            "    </tr>\n",
                            "    <tr>\n",
                            "      <th>3</th>\n",
                            "      <td>2.81</td>\n",
                            "      <td>3.38</td>\n",
                            "      <td>3.83</td>\n",
                            "      <td>4.32</td>\n",
                            "    </tr>\n",
                            "    <tr>\n",
                            "      <th>4</th>\n",
                            "      <td>2.76</td>\n",
                            "      <td>3.44</td>\n",
                            "      <td>3.91</td>\n",
                            "      <td>4.27</td>\n",
                            "    </tr>\n",
                            "    <tr>\n",
                            "      <th>5</th>\n",
                            "      <td>2.91</td>\n",
                            "      <td>3.40</td>\n",
                            "      <td>3.81</td>\n",
                            "      <td>4.34</td>\n",
                            "    </tr>\n",
                            "    <tr>\n",
                            "      <th>6</th>\n",
                            "      <td>2.82</td>\n",
                            "      <td>3.51</td>\n",
                            "      <td>3.84</td>\n",
                            "      <td>4.32</td>\n",
                            "    </tr>\n",
                            "    <tr>\n",
                            "      <th>7</th>\n",
                            "      <td>2.75</td>\n",
                            "      <td>3.41</td>\n",
                            "      <td>3.90</td>\n",
                            "      <td>4.37</td>\n",
                            "    </tr>\n",
                            "    <tr>\n",
                            "      <th>8</th>\n",
                            "      <td>2.81</td>\n",
                            "      <td>3.32</td>\n",
                            "      <td>3.84</td>\n",
                            "      <td>4.25</td>\n",
                            "    </tr>\n",
                            "    <tr>\n",
                            "      <th>9</th>\n",
                            "      <td>2.82</td>\n",
                            "      <td>3.34</td>\n",
                            "      <td>3.88</td>\n",
                            "      <td>4.35</td>\n",
                            "    </tr>\n",
                            "  </tbody>\n",
                            "</table>\n",
                            "</div>"
                        ]
                    },
                    "metadata": {},
                    "execution_count": 11
                }
            ],
            "metadata": {}
        },
        {
            "cell_type": "code",
            "execution_count": 12,
            "source": [
                "# Deviazione standard periodo 5 oscillazioni\n",
                "T5.std(ddof=1)"
            ],
            "outputs": [
                {
                    "output_type": "execute_result",
                    "data": {
                        "text/plain": [
                            "T4     0.056214\n",
                            "T6     0.063281\n",
                            "T8     0.043525\n",
                            "T10    0.049261\n",
                            "dtype: float64"
                        ]
                    },
                    "metadata": {},
                    "execution_count": 12
                }
            ],
            "metadata": {}
        },
        {
            "cell_type": "markdown",
            "source": [
                "## 3.2 - Misure periodo singola oscillazione $T$"
            ],
            "metadata": {}
        },
        {
            "cell_type": "code",
            "execution_count": 13,
            "source": [
                "T = T5 / 5"
            ],
            "outputs": [],
            "metadata": {}
        },
        {
            "cell_type": "code",
            "execution_count": 14,
            "source": [
                "# Media singola oscillazione\n",
                "T.mean()"
            ],
            "outputs": [
                {
                    "output_type": "execute_result",
                    "data": {
                        "text/plain": [
                            "T4     0.5632\n",
                            "T6     0.6828\n",
                            "T8     0.7750\n",
                            "T10    0.8672\n",
                            "dtype: float64"
                        ]
                    },
                    "metadata": {},
                    "execution_count": 14
                }
            ],
            "metadata": {}
        },
        {
            "cell_type": "code",
            "execution_count": 15,
            "source": [
                "# Deviazione standard media singola oscillazione\n",
                "T.std(ddof=1) / np.sqrt(N)"
            ],
            "outputs": [
                {
                    "output_type": "execute_result",
                    "data": {
                        "text/plain": [
                            "T4     0.003555\n",
                            "T6     0.004002\n",
                            "T8     0.002753\n",
                            "T10    0.003116\n",
                            "dtype: float64"
                        ]
                    },
                    "metadata": {},
                    "execution_count": 15
                }
            ],
            "metadata": {}
        },
        {
            "cell_type": "markdown",
            "source": [
                "## 3.3 - Misure periodo singola oscillazione al quadrato $T^2$"
            ],
            "metadata": {}
        },
        {
            "cell_type": "code",
            "execution_count": 16,
            "source": [
                "T2 = T * T"
            ],
            "outputs": [],
            "metadata": {}
        },
        {
            "cell_type": "code",
            "execution_count": 17,
            "source": [
                "# Media singola oscillazione ^ 2\n",
                "T2.mean()"
            ],
            "outputs": [
                {
                    "output_type": "execute_result",
                    "data": {
                        "text/plain": [
                            "T4     0.317308\n",
                            "T6     0.466360\n",
                            "T8     0.600693\n",
                            "T10    0.752123\n",
                            "dtype: float64"
                        ]
                    },
                    "metadata": {},
                    "execution_count": 17
                }
            ],
            "metadata": {}
        },
        {
            "cell_type": "code",
            "execution_count": 18,
            "source": [
                "# Deviazione standard media singola oscillazione ^ 2\n",
                "T2.std(ddof=1) / np.sqrt(N)"
            ],
            "outputs": [
                {
                    "output_type": "execute_result",
                    "data": {
                        "text/plain": [
                            "T4     0.004030\n",
                            "T6     0.005477\n",
                            "T8     0.004268\n",
                            "T10    0.005393\n",
                            "dtype: float64"
                        ]
                    },
                    "metadata": {},
                    "execution_count": 18
                }
            ],
            "metadata": {}
        }
    ],
    "metadata": {
        "orig_nbformat": 4,
        "language_info": {
            "name": "python",
            "version": "3.9.6",
            "mimetype": "text/x-python",
            "codemirror_mode": {
                "name": "ipython",
                "version": 3
            },
            "pygments_lexer": "ipython3",
            "nbconvert_exporter": "python",
            "file_extension": ".py"
        },
        "kernelspec": {
            "name": "python3",
            "display_name": "Python 3.9.6 64-bit"
        },
        "interpreter": {
            "hash": "aee8b7b246df8f9039afb4144a1f6fd8d2ca17a180786b69acc140d282b71a49"
        }
    },
    "nbformat": 4,
    "nbformat_minor": 2
}