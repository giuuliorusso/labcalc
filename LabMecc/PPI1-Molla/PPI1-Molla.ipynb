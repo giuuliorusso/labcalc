{
    "cells": [
        {
            "cell_type": "markdown",
            "source": [
                "# PPI1-Molla"
            ],
            "metadata": {}
        },
        {
            "cell_type": "code",
            "execution_count": 1,
            "source": [
                "import matplotlib.pyplot as plt\n",
                "import numpy as np\n",
                "from numpy import pi, sqrt\n",
                "import pandas as pd\n",
                "\n",
                "from lab import plot_histogram, linear_fit, plot_linear_fit, plot_residuals"
            ],
            "outputs": [],
            "metadata": {}
        },
        {
            "cell_type": "code",
            "execution_count": 2,
            "source": [
                "# Numero misurazioni\n",
                "N = 10"
            ],
            "outputs": [],
            "metadata": {}
        },
        {
            "cell_type": "markdown",
            "source": [
                "## 1 - Misure massa $m$"
            ],
            "metadata": {}
        },
        {
            "cell_type": "code",
            "execution_count": 3,
            "source": [
                "m = pd.read_csv(\"Data/Massa.csv\")\n",
                "m"
            ],
            "outputs": [
                {
                    "output_type": "execute_result",
                    "data": {
                        "text/plain": [
                            "      m4     m6     m8    m10\n",
                            "0  317.7  475.5  630.4  788.1\n",
                            "1  317.6  475.5  630.4  787.9\n",
                            "2  317.7  475.4  630.4  788.2\n",
                            "3  317.8  475.6  630.4  788.3\n",
                            "4  317.7  475.5  630.3  788.2\n",
                            "5  317.7  475.2  630.4  788.3\n",
                            "6  317.6  475.4  630.4  788.1\n",
                            "7  317.8  475.5  630.3  788.2\n",
                            "8  317.8  475.3  630.3  788.3\n",
                            "9  317.7  475.4  630.1  788.3"
                        ],
                        "text/html": [
                            "<div>\n",
                            "<style scoped>\n",
                            "    .dataframe tbody tr th:only-of-type {\n",
                            "        vertical-align: middle;\n",
                            "    }\n",
                            "\n",
                            "    .dataframe tbody tr th {\n",
                            "        vertical-align: top;\n",
                            "    }\n",
                            "\n",
                            "    .dataframe thead th {\n",
                            "        text-align: right;\n",
                            "    }\n",
                            "</style>\n",
                            "<table border=\"1\" class=\"dataframe\">\n",
                            "  <thead>\n",
                            "    <tr style=\"text-align: right;\">\n",
                            "      <th></th>\n",
                            "      <th>m4</th>\n",
                            "      <th>m6</th>\n",
                            "      <th>m8</th>\n",
                            "      <th>m10</th>\n",
                            "    </tr>\n",
                            "  </thead>\n",
                            "  <tbody>\n",
                            "    <tr>\n",
                            "      <th>0</th>\n",
                            "      <td>317.7</td>\n",
                            "      <td>475.5</td>\n",
                            "      <td>630.4</td>\n",
                            "      <td>788.1</td>\n",
                            "    </tr>\n",
                            "    <tr>\n",
                            "      <th>1</th>\n",
                            "      <td>317.6</td>\n",
                            "      <td>475.5</td>\n",
                            "      <td>630.4</td>\n",
                            "      <td>787.9</td>\n",
                            "    </tr>\n",
                            "    <tr>\n",
                            "      <th>2</th>\n",
                            "      <td>317.7</td>\n",
                            "      <td>475.4</td>\n",
                            "      <td>630.4</td>\n",
                            "      <td>788.2</td>\n",
                            "    </tr>\n",
                            "    <tr>\n",
                            "      <th>3</th>\n",
                            "      <td>317.8</td>\n",
                            "      <td>475.6</td>\n",
                            "      <td>630.4</td>\n",
                            "      <td>788.3</td>\n",
                            "    </tr>\n",
                            "    <tr>\n",
                            "      <th>4</th>\n",
                            "      <td>317.7</td>\n",
                            "      <td>475.5</td>\n",
                            "      <td>630.3</td>\n",
                            "      <td>788.2</td>\n",
                            "    </tr>\n",
                            "    <tr>\n",
                            "      <th>5</th>\n",
                            "      <td>317.7</td>\n",
                            "      <td>475.2</td>\n",
                            "      <td>630.4</td>\n",
                            "      <td>788.3</td>\n",
                            "    </tr>\n",
                            "    <tr>\n",
                            "      <th>6</th>\n",
                            "      <td>317.6</td>\n",
                            "      <td>475.4</td>\n",
                            "      <td>630.4</td>\n",
                            "      <td>788.1</td>\n",
                            "    </tr>\n",
                            "    <tr>\n",
                            "      <th>7</th>\n",
                            "      <td>317.8</td>\n",
                            "      <td>475.5</td>\n",
                            "      <td>630.3</td>\n",
                            "      <td>788.2</td>\n",
                            "    </tr>\n",
                            "    <tr>\n",
                            "      <th>8</th>\n",
                            "      <td>317.8</td>\n",
                            "      <td>475.3</td>\n",
                            "      <td>630.3</td>\n",
                            "      <td>788.3</td>\n",
                            "    </tr>\n",
                            "    <tr>\n",
                            "      <th>9</th>\n",
                            "      <td>317.7</td>\n",
                            "      <td>475.4</td>\n",
                            "      <td>630.1</td>\n",
                            "      <td>788.3</td>\n",
                            "    </tr>\n",
                            "  </tbody>\n",
                            "</table>\n",
                            "</div>"
                        ]
                    },
                    "metadata": {},
                    "execution_count": 3
                }
            ],
            "metadata": {}
        },
        {
            "cell_type": "code",
            "execution_count": 4,
            "source": [
                "# Deviazione standard massa\n",
                "m.std(ddof=1)"
            ],
            "outputs": [
                {
                    "output_type": "execute_result",
                    "data": {
                        "text/plain": [
                            "m4     0.073786\n",
                            "m6     0.115950\n",
                            "m8     0.096609\n",
                            "m10    0.128668\n",
                            "dtype: float64"
                        ]
                    },
                    "metadata": {},
                    "execution_count": 4
                }
            ],
            "metadata": {}
        },
        {
            "cell_type": "code",
            "execution_count": 5,
            "source": [
                "# Media massa\n",
                "mu_m = m.mean()\n",
                "mu_m"
            ],
            "outputs": [
                {
                    "output_type": "execute_result",
                    "data": {
                        "text/plain": [
                            "m4     317.71\n",
                            "m6     475.43\n",
                            "m8     630.34\n",
                            "m10    788.19\n",
                            "dtype: float64"
                        ]
                    },
                    "metadata": {},
                    "execution_count": 5
                }
            ],
            "metadata": {}
        },
        {
            "cell_type": "code",
            "execution_count": 6,
            "source": [
                "# Deviazione standard media massa\n",
                "sigma_m = m.std(ddof=1) / np.sqrt(N)\n",
                "sigma_m"
            ],
            "outputs": [
                {
                    "output_type": "execute_result",
                    "data": {
                        "text/plain": [
                            "m4     0.023333\n",
                            "m6     0.036667\n",
                            "m8     0.030551\n",
                            "m10    0.040689\n",
                            "dtype: float64"
                        ]
                    },
                    "metadata": {},
                    "execution_count": 6
                }
            ],
            "metadata": {}
        },
        {
            "cell_type": "markdown",
            "source": [
                "## 2 - Misure posizione di equlibrio $x_{eq}$"
            ],
            "metadata": {}
        },
        {
            "cell_type": "code",
            "execution_count": 7,
            "source": [
                "xeq = pd.read_csv(\"Data/Xeq.csv\")\n",
                "xeq"
            ],
            "outputs": [
                {
                    "output_type": "execute_result",
                    "data": {
                        "text/plain": [
                            "   Xeq4  Xeq6  Xeq8  Xeq10\n",
                            "0  13.0  16.3  19.6   23.0\n",
                            "1  12.9  16.2  19.6   23.0\n",
                            "2  12.9  16.3  19.5   23.1\n",
                            "3  12.9  16.3  19.6   23.0\n",
                            "4  13.0  16.2  19.6   23.0\n",
                            "5  12.9  16.3  19.6   23.0\n",
                            "6  12.9  16.3  19.6   23.1\n",
                            "7  12.9  16.3  19.6   23.0\n",
                            "8  12.9  16.3  19.6   23.0\n",
                            "9  12.9  16.2  19.6   23.0"
                        ],
                        "text/html": [
                            "<div>\n",
                            "<style scoped>\n",
                            "    .dataframe tbody tr th:only-of-type {\n",
                            "        vertical-align: middle;\n",
                            "    }\n",
                            "\n",
                            "    .dataframe tbody tr th {\n",
                            "        vertical-align: top;\n",
                            "    }\n",
                            "\n",
                            "    .dataframe thead th {\n",
                            "        text-align: right;\n",
                            "    }\n",
                            "</style>\n",
                            "<table border=\"1\" class=\"dataframe\">\n",
                            "  <thead>\n",
                            "    <tr style=\"text-align: right;\">\n",
                            "      <th></th>\n",
                            "      <th>Xeq4</th>\n",
                            "      <th>Xeq6</th>\n",
                            "      <th>Xeq8</th>\n",
                            "      <th>Xeq10</th>\n",
                            "    </tr>\n",
                            "  </thead>\n",
                            "  <tbody>\n",
                            "    <tr>\n",
                            "      <th>0</th>\n",
                            "      <td>13.0</td>\n",
                            "      <td>16.3</td>\n",
                            "      <td>19.6</td>\n",
                            "      <td>23.0</td>\n",
                            "    </tr>\n",
                            "    <tr>\n",
                            "      <th>1</th>\n",
                            "      <td>12.9</td>\n",
                            "      <td>16.2</td>\n",
                            "      <td>19.6</td>\n",
                            "      <td>23.0</td>\n",
                            "    </tr>\n",
                            "    <tr>\n",
                            "      <th>2</th>\n",
                            "      <td>12.9</td>\n",
                            "      <td>16.3</td>\n",
                            "      <td>19.5</td>\n",
                            "      <td>23.1</td>\n",
                            "    </tr>\n",
                            "    <tr>\n",
                            "      <th>3</th>\n",
                            "      <td>12.9</td>\n",
                            "      <td>16.3</td>\n",
                            "      <td>19.6</td>\n",
                            "      <td>23.0</td>\n",
                            "    </tr>\n",
                            "    <tr>\n",
                            "      <th>4</th>\n",
                            "      <td>13.0</td>\n",
                            "      <td>16.2</td>\n",
                            "      <td>19.6</td>\n",
                            "      <td>23.0</td>\n",
                            "    </tr>\n",
                            "    <tr>\n",
                            "      <th>5</th>\n",
                            "      <td>12.9</td>\n",
                            "      <td>16.3</td>\n",
                            "      <td>19.6</td>\n",
                            "      <td>23.0</td>\n",
                            "    </tr>\n",
                            "    <tr>\n",
                            "      <th>6</th>\n",
                            "      <td>12.9</td>\n",
                            "      <td>16.3</td>\n",
                            "      <td>19.6</td>\n",
                            "      <td>23.1</td>\n",
                            "    </tr>\n",
                            "    <tr>\n",
                            "      <th>7</th>\n",
                            "      <td>12.9</td>\n",
                            "      <td>16.3</td>\n",
                            "      <td>19.6</td>\n",
                            "      <td>23.0</td>\n",
                            "    </tr>\n",
                            "    <tr>\n",
                            "      <th>8</th>\n",
                            "      <td>12.9</td>\n",
                            "      <td>16.3</td>\n",
                            "      <td>19.6</td>\n",
                            "      <td>23.0</td>\n",
                            "    </tr>\n",
                            "    <tr>\n",
                            "      <th>9</th>\n",
                            "      <td>12.9</td>\n",
                            "      <td>16.2</td>\n",
                            "      <td>19.6</td>\n",
                            "      <td>23.0</td>\n",
                            "    </tr>\n",
                            "  </tbody>\n",
                            "</table>\n",
                            "</div>"
                        ]
                    },
                    "metadata": {},
                    "execution_count": 7
                }
            ],
            "metadata": {}
        },
        {
            "cell_type": "code",
            "execution_count": 8,
            "source": [
                "# Deviazione standard xeq\n",
                "xeq.std(ddof=1)"
            ],
            "outputs": [
                {
                    "output_type": "execute_result",
                    "data": {
                        "text/plain": [
                            "Xeq4     0.042164\n",
                            "Xeq6     0.048305\n",
                            "Xeq8     0.031623\n",
                            "Xeq10    0.042164\n",
                            "dtype: float64"
                        ]
                    },
                    "metadata": {},
                    "execution_count": 8
                }
            ],
            "metadata": {}
        },
        {
            "cell_type": "code",
            "execution_count": 9,
            "source": [
                "# Media xeq\n",
                "mu_xeq = xeq.mean()\n",
                "mu_xeq"
            ],
            "outputs": [
                {
                    "output_type": "execute_result",
                    "data": {
                        "text/plain": [
                            "Xeq4     12.92\n",
                            "Xeq6     16.27\n",
                            "Xeq8     19.59\n",
                            "Xeq10    23.02\n",
                            "dtype: float64"
                        ]
                    },
                    "metadata": {},
                    "execution_count": 9
                }
            ],
            "metadata": {}
        },
        {
            "cell_type": "code",
            "execution_count": 10,
            "source": [
                "# Deviazione standard media xeq\n",
                "sigma_xeq = xeq.std(ddof=1) / np.sqrt(N)\n",
                "sigma_xeq"
            ],
            "outputs": [
                {
                    "output_type": "execute_result",
                    "data": {
                        "text/plain": [
                            "Xeq4     0.013333\n",
                            "Xeq6     0.015275\n",
                            "Xeq8     0.010000\n",
                            "Xeq10    0.013333\n",
                            "dtype: float64"
                        ]
                    },
                    "metadata": {},
                    "execution_count": 10
                }
            ],
            "metadata": {}
        },
        {
            "cell_type": "markdown",
            "source": [
                "## 3.1 - Misure periodo 5 oscillazioni $T_{5osc}$"
            ],
            "metadata": {}
        },
        {
            "cell_type": "code",
            "execution_count": 11,
            "source": [
                "T5 = pd.read_csv(\"Data/Periodo.csv\")\n",
                "T5"
            ],
            "outputs": [
                {
                    "output_type": "execute_result",
                    "data": {
                        "text/plain": [
                            "     T4    T6    T8   T10\n",
                            "0  2.81  3.51  3.90  4.40\n",
                            "1  2.91  3.44  3.89  4.40\n",
                            "2  2.76  3.39  3.95  4.34\n",
                            "3  2.81  3.38  3.83  4.32\n",
                            "4  2.76  3.44  3.91  4.27\n",
                            "5  2.91  3.40  3.81  4.34\n",
                            "6  2.82  3.51  3.84  4.32\n",
                            "7  2.75  3.41  3.90  4.37\n",
                            "8  2.81  3.32  3.84  4.25\n",
                            "9  2.82  3.34  3.88  4.35"
                        ],
                        "text/html": [
                            "<div>\n",
                            "<style scoped>\n",
                            "    .dataframe tbody tr th:only-of-type {\n",
                            "        vertical-align: middle;\n",
                            "    }\n",
                            "\n",
                            "    .dataframe tbody tr th {\n",
                            "        vertical-align: top;\n",
                            "    }\n",
                            "\n",
                            "    .dataframe thead th {\n",
                            "        text-align: right;\n",
                            "    }\n",
                            "</style>\n",
                            "<table border=\"1\" class=\"dataframe\">\n",
                            "  <thead>\n",
                            "    <tr style=\"text-align: right;\">\n",
                            "      <th></th>\n",
                            "      <th>T4</th>\n",
                            "      <th>T6</th>\n",
                            "      <th>T8</th>\n",
                            "      <th>T10</th>\n",
                            "    </tr>\n",
                            "  </thead>\n",
                            "  <tbody>\n",
                            "    <tr>\n",
                            "      <th>0</th>\n",
                            "      <td>2.81</td>\n",
                            "      <td>3.51</td>\n",
                            "      <td>3.90</td>\n",
                            "      <td>4.40</td>\n",
                            "    </tr>\n",
                            "    <tr>\n",
                            "      <th>1</th>\n",
                            "      <td>2.91</td>\n",
                            "      <td>3.44</td>\n",
                            "      <td>3.89</td>\n",
                            "      <td>4.40</td>\n",
                            "    </tr>\n",
                            "    <tr>\n",
                            "      <th>2</th>\n",
                            "      <td>2.76</td>\n",
                            "      <td>3.39</td>\n",
                            "      <td>3.95</td>\n",
                            "      <td>4.34</td>\n",
                            "    </tr>\n",
                            "    <tr>\n",
                            "      <th>3</th>\n",
                            "      <td>2.81</td>\n",
                            "      <td>3.38</td>\n",
                            "      <td>3.83</td>\n",
                            "      <td>4.32</td>\n",
                            "    </tr>\n",
                            "    <tr>\n",
                            "      <th>4</th>\n",
                            "      <td>2.76</td>\n",
                            "      <td>3.44</td>\n",
                            "      <td>3.91</td>\n",
                            "      <td>4.27</td>\n",
                            "    </tr>\n",
                            "    <tr>\n",
                            "      <th>5</th>\n",
                            "      <td>2.91</td>\n",
                            "      <td>3.40</td>\n",
                            "      <td>3.81</td>\n",
                            "      <td>4.34</td>\n",
                            "    </tr>\n",
                            "    <tr>\n",
                            "      <th>6</th>\n",
                            "      <td>2.82</td>\n",
                            "      <td>3.51</td>\n",
                            "      <td>3.84</td>\n",
                            "      <td>4.32</td>\n",
                            "    </tr>\n",
                            "    <tr>\n",
                            "      <th>7</th>\n",
                            "      <td>2.75</td>\n",
                            "      <td>3.41</td>\n",
                            "      <td>3.90</td>\n",
                            "      <td>4.37</td>\n",
                            "    </tr>\n",
                            "    <tr>\n",
                            "      <th>8</th>\n",
                            "      <td>2.81</td>\n",
                            "      <td>3.32</td>\n",
                            "      <td>3.84</td>\n",
                            "      <td>4.25</td>\n",
                            "    </tr>\n",
                            "    <tr>\n",
                            "      <th>9</th>\n",
                            "      <td>2.82</td>\n",
                            "      <td>3.34</td>\n",
                            "      <td>3.88</td>\n",
                            "      <td>4.35</td>\n",
                            "    </tr>\n",
                            "  </tbody>\n",
                            "</table>\n",
                            "</div>"
                        ]
                    },
                    "metadata": {},
                    "execution_count": 11
                }
            ],
            "metadata": {}
        },
        {
            "cell_type": "code",
            "execution_count": 12,
            "source": [
                "# Deviazione standard periodo 5 oscillazioni\n",
                "T5.std(ddof=1)"
            ],
            "outputs": [
                {
                    "output_type": "execute_result",
                    "data": {
                        "text/plain": [
                            "T4     0.056214\n",
                            "T6     0.063281\n",
                            "T8     0.043525\n",
                            "T10    0.049261\n",
                            "dtype: float64"
                        ]
                    },
                    "metadata": {},
                    "execution_count": 12
                }
            ],
            "metadata": {}
        },
        {
            "cell_type": "markdown",
            "source": [
                "## 3.2 - Misure periodo singola oscillazione $T$"
            ],
            "metadata": {}
        },
        {
            "cell_type": "code",
            "execution_count": 13,
            "source": [
                "T = T5 / 5"
            ],
            "outputs": [],
            "metadata": {}
        },
        {
            "cell_type": "code",
            "execution_count": 14,
            "source": [
                "# Media singola oscillazione\n",
                "T.mean()"
            ],
            "outputs": [
                {
                    "output_type": "execute_result",
                    "data": {
                        "text/plain": [
                            "T4     0.5632\n",
                            "T6     0.6828\n",
                            "T8     0.7750\n",
                            "T10    0.8672\n",
                            "dtype: float64"
                        ]
                    },
                    "metadata": {},
                    "execution_count": 14
                }
            ],
            "metadata": {}
        },
        {
            "cell_type": "code",
            "execution_count": 15,
            "source": [
                "# Deviazione standard media singola oscillazione\n",
                "T.std(ddof=1) / np.sqrt(N)"
            ],
            "outputs": [
                {
                    "output_type": "execute_result",
                    "data": {
                        "text/plain": [
                            "T4     0.003555\n",
                            "T6     0.004002\n",
                            "T8     0.002753\n",
                            "T10    0.003116\n",
                            "dtype: float64"
                        ]
                    },
                    "metadata": {},
                    "execution_count": 15
                }
            ],
            "metadata": {}
        },
        {
            "cell_type": "markdown",
            "source": [
                "## 3.3 - Misure periodo singola oscillazione al quadrato $T^2$"
            ],
            "metadata": {}
        },
        {
            "cell_type": "code",
            "execution_count": 16,
            "source": [
                "T2 = T * T"
            ],
            "outputs": [],
            "metadata": {}
        },
        {
            "cell_type": "code",
            "execution_count": 17,
            "source": [
                "# Media singola oscillazione ^ 2\n",
                "mu_T2 = T2.mean()\n",
                "mu_T2"
            ],
            "outputs": [
                {
                    "output_type": "execute_result",
                    "data": {
                        "text/plain": [
                            "T4     0.317308\n",
                            "T6     0.466360\n",
                            "T8     0.600693\n",
                            "T10    0.752123\n",
                            "dtype: float64"
                        ]
                    },
                    "metadata": {},
                    "execution_count": 17
                }
            ],
            "metadata": {}
        },
        {
            "cell_type": "code",
            "execution_count": 18,
            "source": [
                "# Deviazione standard media singola oscillazione ^ 2\n",
                "sigma_T2 = T2.std(ddof=1) / np.sqrt(N)\n",
                "sigma_T2"
            ],
            "outputs": [
                {
                    "output_type": "execute_result",
                    "data": {
                        "text/plain": [
                            "T4     0.004030\n",
                            "T6     0.005477\n",
                            "T8     0.004268\n",
                            "T10    0.005393\n",
                            "dtype: float64"
                        ]
                    },
                    "metadata": {},
                    "execution_count": 18
                }
            ],
            "metadata": {}
        },
        {
            "cell_type": "markdown",
            "source": [
                "## 4 - Istrogrammi periodo singola oscillazione"
            ],
            "metadata": {}
        },
        {
            "cell_type": "code",
            "execution_count": 19,
            "source": [
                "plot_histogram(\n",
                "    data=T[\"T4\"],\n",
                "    xlabel=\"$T$ [s]\",\n",
                "    bindiv=1.4\n",
                ")\n",
                "\n",
                "plt.savefig(\"Images/Histo_T4.pdf\")"
            ],
            "outputs": [
                {
                    "output_type": "stream",
                    "name": "stdout",
                    "text": [
                        "N = 10\n",
                        "mu = 0.5632\n",
                        "sigma = 0.01124277545804419\n",
                        "binsize = 0.008030553898602993\n"
                    ]
                },
                {
                    "output_type": "display_data",
                    "data": {
                        "text/plain": [
                            "<Figure size 432x288 with 1 Axes>"
                        ],
                        "image/png": "[encoded data removed]"
                    },
                    "metadata": {
                        "needs_background": "light"
                    }
                }
            ],
            "metadata": {}
        },
        {
            "cell_type": "code",
            "execution_count": 20,
            "source": [
                "plot_histogram(\n",
                "    data=T[\"T6\"],\n",
                "    xlabel=\"$T$ [s]\",\n",
                "    bindiv=1.3\n",
                ")\n",
                "\n",
                "plt.savefig(\"Images/Histo_T6.pdf\")"
            ],
            "outputs": [
                {
                    "output_type": "stream",
                    "name": "stdout",
                    "text": [
                        "N = 10\n",
                        "mu = 0.6828\n",
                        "sigma = 0.012656135973423244\n",
                        "binsize = 0.009735489210325571\n"
                    ]
                },
                {
                    "output_type": "display_data",
                    "data": {
                        "text/plain": [
                            "<Figure size 432x288 with 1 Axes>"
                        ],
                        "image/png": "[encoded data removed]"
                    },
                    "metadata": {
                        "needs_background": "light"
                    }
                }
            ],
            "metadata": {}
        },
        {
            "cell_type": "code",
            "execution_count": 21,
            "source": [
                "plot_histogram(\n",
                "    data=T[\"T8\"],\n",
                "    xlabel=\"$T$ [s]\",\n",
                "    bindiv=1.2\n",
                ")\n",
                "\n",
                "plt.savefig(\"Images/Histo_T8.pdf\")"
            ],
            "outputs": [
                {
                    "output_type": "stream",
                    "name": "stdout",
                    "text": [
                        "N = 10\n",
                        "mu = 0.7749999999999999\n",
                        "sigma = 0.00870504323813374\n",
                        "binsize = 0.007254202698444783\n"
                    ]
                },
                {
                    "output_type": "display_data",
                    "data": {
                        "text/plain": [
                            "<Figure size 432x288 with 1 Axes>"
                        ],
                        "image/png": "[encoded data removed]"
                    },
                    "metadata": {
                        "needs_background": "light"
                    }
                }
            ],
            "metadata": {}
        },
        {
            "cell_type": "code",
            "execution_count": 22,
            "source": [
                "plot_histogram(\n",
                "    data=T[\"T10\"],\n",
                "    xlabel=\"$T$ [s]\",\n",
                "    bindiv=1.3\n",
                ")\n",
                "\n",
                "plt.savefig(\"Images/Histo_T10.pdf\")"
            ],
            "outputs": [
                {
                    "output_type": "stream",
                    "name": "stdout",
                    "text": [
                        "N = 10\n",
                        "mu = 0.8671999999999999\n",
                        "sigma = 0.009852241707686001\n",
                        "binsize = 0.00757864746745077\n"
                    ]
                },
                {
                    "output_type": "display_data",
                    "data": {
                        "text/plain": [
                            "<Figure size 432x288 with 1 Axes>"
                        ],
                        "image/png": "[encoded data removed]"
                    },
                    "metadata": {
                        "needs_background": "light"
                    }
                }
            ],
            "metadata": {}
        },
        {
            "cell_type": "markdown",
            "source": [
                "## 5 - Misura della costante elastica della molla $k$"
            ],
            "metadata": {}
        },
        {
            "cell_type": "markdown",
            "source": [
                "$ 1 \\; k = 1 \\frac{\\text{N}}{\\text{m}} = 1 \\frac{\\text{kg} \\cdot \\text{m}}{\\text{s}^2} \\frac{1}{\\text{m}} $"
            ],
            "metadata": {}
        },
        {
            "cell_type": "code",
            "execution_count": 23,
            "source": [
                "# Costante elastica\n",
                "\n",
                "delta_m = (mu_m[\"m10\"] - mu_m[\"m4\"]) * 0.001  # g -> kg\n",
                "delta_T = mu_T2[\"T10\"] - mu_T2[\"T4\"]  # s\n",
                "\n",
                "k = 4 * (pi ** 2) * (delta_m / delta_T)\n",
                "\n",
                "print(f\"k = {k}\")"
            ],
            "outputs": [
                {
                    "output_type": "stream",
                    "name": "stdout",
                    "text": [
                        "k = 42.71655157063986\n"
                    ]
                }
            ],
            "metadata": {}
        },
        {
            "cell_type": "code",
            "execution_count": 24,
            "source": [
                "# Incertezza costante elastica\n",
                "\n",
                "sigma_delta_m = sqrt(\n",
                "    sigma_m[\"m10\"] ** 2 +\n",
                "    sigma_m[\"m4\"] ** 2\n",
                ") * 0.001  # g -> kg\n",
                "\n",
                "sigma_delta_T = sqrt(\n",
                "    sigma_T2[\"T10\"] ** 2 +\n",
                "    sigma_T2[\"T4\"] ** 2\n",
                ")  # s\n",
                "\n",
                "sigma_k = 4 * (pi ** 2) * sqrt(\n",
                "    (1 / delta_T * sigma_delta_m) ** 2 +\n",
                "    (delta_m / delta_T ** 2 * sigma_delta_T) ** 2\n",
                ")\n",
                "\n",
                "print(f\"sigma_k = {sigma_k}\")"
            ],
            "outputs": [
                {
                    "output_type": "stream",
                    "name": "stdout",
                    "text": [
                        "sigma_k = 0.6614553544945551\n"
                    ]
                }
            ],
            "metadata": {}
        },
        {
            "cell_type": "markdown",
            "source": [
                "## 6.1 - Fit lineare"
            ],
            "metadata": {}
        },
        {
            "cell_type": "code",
            "execution_count": 25,
            "source": [
                "x = np.array(mu_T2)\n",
                "sigma_x = np.array(sigma_T2)\n",
                "\n",
                "y = np.array(mu_xeq)\n",
                "sigma_y = np.array(sigma_xeq)\n",
                "\n",
                "print(f\"x = {x}\")\n",
                "print(f\"sigma_x = {sigma_x}\\n\")\n",
                "\n",
                "print(f\"y = {y}\")\n",
                "print(f\"sigma_y = {sigma_y}\")"
            ],
            "outputs": [
                {
                    "output_type": "stream",
                    "name": "stdout",
                    "text": [
                        "x = [0.317308  0.46636   0.6006932 0.7521232]\n",
                        "sigma_x = [0.00403039 0.00547706 0.00426842 0.00539328]\n",
                        "\n",
                        "y = [12.92 16.27 19.59 23.02]\n",
                        "sigma_y = [0.01333333 0.01527525 0.01       0.01333333]\n"
                    ]
                }
            ],
            "metadata": {}
        },
        {
            "cell_type": "code",
            "execution_count": 26,
            "source": [
                "fit = linear_fit(x, y, sigma_y)"
            ],
            "outputs": [
                {
                    "output_type": "stream",
                    "name": "stdout",
                    "text": [
                        "Fit:\n",
                        "\tm = 23.372185935798452\n",
                        "\tvar_m = 0.0016948315130394156\n",
                        "\tsigma_m = 0.04116833143375397\n",
                        "\tc = 5.485874384393007\n",
                        "\tvar_c = 0.0005501349644368209\n",
                        "\tsigma_c = 0.023454956074075706\n",
                        "\tcov_mc = -0.0009305992960804788\n",
                        "\trho_mc = -0.9637509751490834\n"
                    ]
                }
            ],
            "metadata": {}
        },
        {
            "cell_type": "code",
            "execution_count": 27,
            "source": [
                "sigma_y = sqrt(sigma_y ** 2 + (fit.m * sigma_x) ** 2)\n",
                "print(f\"sigma_y = {sigma_y}\")"
            ],
            "outputs": [
                {
                    "output_type": "stream",
                    "name": "stdout",
                    "text": [
                        "sigma_y = [0.09513786 0.12891897 0.10026213 0.12675602]\n"
                    ]
                }
            ],
            "metadata": {}
        },
        {
            "cell_type": "code",
            "execution_count": 28,
            "source": [
                "# Fit\n",
                "\n",
                "fit = plot_linear_fit(\n",
                "    x, y, sigma_y,\n",
                "    xlabel=\"$T^2$ [s$^2$]\",\n",
                "    ylabel=\"$x_{eq}$ [cm]\",\n",
                "    sigmas=[5],\n",
                "    verbosity=2\n",
                ")\n",
                "\n",
                "plt.savefig(\"Images/Fit.pdf\")"
            ],
            "outputs": [
                {
                    "output_type": "stream",
                    "name": "stdout",
                    "text": [
                        "Fit:\n",
                        "\tm = 23.35293446135246\n",
                        "\tvar_m = 0.11515910894809579\n",
                        "\tsigma_m = 0.33935101141457613\n",
                        "\tc = 5.491697435354508\n",
                        "\tvar_c = 0.03302406722720377\n",
                        "\tsigma_c = 0.18172525203505363\n",
                        "\tcov_mc = -0.05879235285548633\n",
                        "\trho_mc = -0.9533588734010264\n",
                        "Other:\n",
                        "\tmean(x, w) = 0.5105315019586081\n",
                        "\tmean(x^2, w) = 0.2867690409283063\n",
                        "\tmean(y, w) = 17.414106141049718\n",
                        "\tmean(xy, w) = 9.500583158317411\n",
                        "\tvar_x = 0.026126626436194067\n",
                        "\tvar_y = 14.252533593083797\n",
                        "\tcov_xy = 0.6101333948606786\n",
                        "\trho_xy = 0.999855158761893\n",
                        "\tsum(w) = 332.36736075460465\n"
                    ]
                },
                {
                    "output_type": "display_data",
                    "data": {
                        "text/plain": [
                            "<Figure size 432x288 with 1 Axes>"
                        ],
                        "image/png": "[encoded data removed]"
                    },
                    "metadata": {
                        "needs_background": "light"
                    }
                }
            ],
            "metadata": {}
        },
        {
            "cell_type": "code",
            "execution_count": 29,
            "source": [
                "# Residui\n",
                "\n",
                "plot_residuals(\n",
                "    x, y, sigma_y,\n",
                "    xlabel=\"$T^2$ [s$^2$]\",\n",
                "    yunit=\"[cm]\"\n",
                ")\n",
                "\n",
                "plt.savefig(\"Images/Residui.pdf\")"
            ],
            "outputs": [
                {
                    "output_type": "display_data",
                    "data": {
                        "text/plain": [
                            "<Figure size 432x288 with 1 Axes>"
                        ],
                        "image/png": "[encoded data removed]"
                    },
                    "metadata": {
                        "needs_background": "light"
                    }
                }
            ],
            "metadata": {}
        },
        {
            "cell_type": "code",
            "execution_count": 30,
            "source": [
                "# Residui standardizzati\n",
                "\n",
                "plot_residuals(\n",
                "    x, y, sigma_y,\n",
                "    xlabel=\"$T^2$ [s$^2$]\",\n",
                "    yunit=\"[cm]\",\n",
                "    standardized=True\n",
                ")\n",
                "\n",
                "plt.savefig(\"Images/ResiduiS.pdf\")"
            ],
            "outputs": [
                {
                    "output_type": "display_data",
                    "data": {
                        "text/plain": [
                            "<Figure size 432x288 with 1 Axes>"
                        ],
                        "image/png": "[encoded data removed]"
                    },
                    "metadata": {
                        "needs_background": "light"
                    }
                }
            ],
            "metadata": {}
        },
        {
            "cell_type": "code",
            "execution_count": 31,
            "source": [
                "# Risultati fit lineare\n",
                "\n",
                "alpha = fit.m\n",
                "sigma_alpha = fit.sigma_m\n",
                "\n",
                "x0 = fit.c\n",
                "sigma_x0 = fit.sigma_c\n",
                "\n",
                "print(f\"alpha = {alpha}\")\n",
                "print(f\"sigma_alpha = {sigma_alpha}\\n\")\n",
                "\n",
                "print(f\"x0 = {x0}\")\n",
                "print(f\"sigma_x0 = {sigma_x0}\")"
            ],
            "outputs": [
                {
                    "output_type": "stream",
                    "name": "stdout",
                    "text": [
                        "alpha = 23.35293446135246\n",
                        "sigma_alpha = 0.33935101141457613\n",
                        "\n",
                        "x0 = 5.491697435354508\n",
                        "sigma_x0 = 0.18172525203505363\n"
                    ]
                }
            ],
            "metadata": {}
        },
        {
            "cell_type": "markdown",
            "source": [
                "## 6.2 Misura dell'accelerazione di gravità $g$"
            ],
            "metadata": {}
        },
        {
            "cell_type": "code",
            "execution_count": 32,
            "source": [
                "g = 4 * (pi ** 2) * alpha * 0.01  # cm/s^2 -> m/s^2\n",
                "sigma_g = 4 * (pi ** 2) * sigma_alpha * 0.01\n",
                "\n",
                "print(f\"g = {g}\")\n",
                "print(f\"sigma_g = {sigma_g}\")"
            ],
            "outputs": [
                {
                    "output_type": "stream",
                    "name": "stdout",
                    "text": [
                        "g = 9.219368989524623\n",
                        "sigma_g = 0.13397040943085703\n"
                    ]
                }
            ],
            "metadata": {}
        },
        {
            "cell_type": "code",
            "execution_count": 33,
            "source": [
                "# Discrepanza\n",
                "z = abs(g - 9.805) / sigma_g\n",
                "print(f\"z = {z}\")"
            ],
            "outputs": [
                {
                    "output_type": "stream",
                    "name": "stdout",
                    "text": [
                        "z = 4.371345978289513\n"
                    ]
                }
            ],
            "metadata": {}
        }
    ],
    "metadata": {
        "orig_nbformat": 4,
        "language_info": {
            "name": "python",
            "version": "3.9.6",
            "mimetype": "text/x-python",
            "codemirror_mode": {
                "name": "ipython",
                "version": 3
            },
            "pygments_lexer": "ipython3",
            "nbconvert_exporter": "python",
            "file_extension": ".py"
        },
        "kernelspec": {
            "name": "python3",
            "display_name": "Python 3.9.6 64-bit"
        },
        "interpreter": {
            "hash": "aee8b7b246df8f9039afb4144a1f6fd8d2ca17a180786b69acc140d282b71a49"
        }
    },
    "nbformat": 4,
    "nbformat_minor": 2
}